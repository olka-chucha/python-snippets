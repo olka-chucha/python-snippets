{
 "cells": [
  {
   "cell_type": "code",
   "execution_count": null,
   "metadata": {},
   "outputs": [],
   "source": [
    "#Типы чисел в Python\n"
   ]
  },
  {
   "cell_type": "code",
   "execution_count": 1,
   "metadata": {},
   "outputs": [
    {
     "name": "stdout",
     "output_type": "stream",
     "text": [
      "1\n"
     ]
    }
   ],
   "source": [
    "a=1\n",
    "print(a)"
   ]
  },
  {
   "cell_type": "code",
   "execution_count": 2,
   "metadata": {},
   "outputs": [
    {
     "data": {
      "text/plain": [
       "2"
      ]
     },
     "execution_count": 2,
     "metadata": {},
     "output_type": "execute_result"
    }
   ],
   "source": [
    "a+1"
   ]
  },
  {
   "cell_type": "code",
   "execution_count": 3,
   "metadata": {},
   "outputs": [
    {
     "data": {
      "text/plain": [
       "32"
      ]
     },
     "execution_count": 3,
     "metadata": {},
     "output_type": "execute_result"
    }
   ],
   "source": [
    "(a + 1) ** 5"
   ]
  },
  {
   "cell_type": "code",
   "execution_count": null,
   "metadata": {},
   "outputs": [],
   "source": [
    "#Первый баннер (1 миллион показов и 983 клика): \n",
    "banner1_shows - количество показов первого баннера\n",
    "banner1_clicks  - количество кликов по первому баннеру\n",
    " \n",
    "Второй баннер (100 тысяч показов и 4 клика): \n",
    "banner2_shows - количество показов второго баннера\n",
    "banner2_clicks  - количество кликов по второму баннеру"
   ]
  },
  {
   "cell_type": "code",
   "execution_count": 9,
   "metadata": {},
   "outputs": [
    {
     "name": "stdout",
     "output_type": "stream",
     "text": [
      "1100000\n",
      "24.574999999999996\n"
     ]
    }
   ],
   "source": [
    "sootnosheniye_CTR=0\n",
    "summa_shows=0\n",
    "banner1_shows=1000000\n",
    "banner1_clicks=983\n",
    "banner2_shows=100000\n",
    "banner2_clicks=4\n",
    "\n",
    "#общее число показов обоих баннеров\n",
    "summa_shows=banner1_shows+banner2_shows\n",
    "print(summa_shows)\n",
    "\n",
    "# во сколько раз CTR первого баннера больше, чем CTR второго\n",
    "CTR1=banner1_clicks/banner1_shows\n",
    "CTR2=banner2_clicks/banner2_shows\n",
    "sootnosheniye_CTR=CTR1/CTR2\n",
    "print(sootnosheniye_CTR)\n",
    "\n",
    "\n"
   ]
  },
  {
   "cell_type": "code",
   "execution_count": 34,
   "metadata": {},
   "outputs": [
    {
     "data": {
      "text/plain": [
       "float"
      ]
     },
     "execution_count": 34,
     "metadata": {},
     "output_type": "execute_result"
    }
   ],
   "source": [
    "banner1_shows = 1000000\n",
    "\n",
    "banner1_clicks = 983\n",
    "\n",
    "CTR = banner1_clicks / banner1_shows\n",
    "\n",
    "#Определяем типы переменных\n",
    "type( banner1_shows )\n",
    "\n",
    "type(CTR )"
   ]
  },
  {
   "cell_type": "code",
   "execution_count": 20,
   "metadata": {},
   "outputs": [
    {
     "data": {
      "text/plain": [
       "float"
      ]
     },
     "execution_count": 20,
     "metadata": {},
     "output_type": "execute_result"
    }
   ],
   "source": [
    "type((2)**0.5) #вычислении квадратного корня из 2. На всякий случай - квадратный корень идентичен возведению в степень 0.5."
   ]
  },
  {
   "cell_type": "code",
   "execution_count": 22,
   "metadata": {},
   "outputs": [
    {
     "name": "stdout",
     "output_type": "stream",
     "text": [
      "Название курса Python для анализа данных\n"
     ]
    }
   ],
   "source": [
    "#Давайте присвоим переменной projectName значение в виде строки.\n",
    "\n",
    "projectName = 'Python для анализа данных'\n",
    "\n",
    "#Что выведет система \n",
    "print( 'Название курса ' + projectName )"
   ]
  },
  {
   "cell_type": "code",
   "execution_count": 54,
   "metadata": {},
   "outputs": [
    {
     "name": "stdout",
     "output_type": "stream",
     "text": [
      "Значение CTR первого баннера равн0.000983\n"
     ]
    }
   ],
   "source": [
    "#Выполните следующие действия:\n",
    "#возьмите значение показов и кликов первого баннера из прошлого упражнения (1000000 показов и 983 клика)\n",
    "#выведите на экран значение CTR этого баннера с комментарием в виде: \n",
    "#Значение CTR первого баннера равно 0.000983\n",
    "\n",
    "banner1_shows = 1000000\n",
    "\n",
    "banner1_clicks = 983\n",
    "CTR1=0.000983\n",
    "\n",
    "#CTR1 = banner1_clicks / banner1_shows\n",
    "#print(CTR1)\n",
    "print('Значение CTR первого баннера равн' + str(CTR1))\n"
   ]
  },
  {
   "cell_type": "code",
   "execution_count": 55,
   "metadata": {},
   "outputs": [
    {
     "name": "stdout",
     "output_type": "stream",
     "text": [
      "0.000983\n"
     ]
    }
   ],
   "source": [
    "banner1_shows = 1000000\n",
    "\n",
    "banner1_clicks = 983\n",
    "\n",
    "ctr = banner1_clicks / banner1_shows\n",
    "\n",
    "print( ctr )"
   ]
  },
  {
   "cell_type": "code",
   "execution_count": 56,
   "metadata": {},
   "outputs": [
    {
     "name": "stdout",
     "output_type": "stream",
     "text": [
      "Результаты первой кампании: показов 1000000, кликов 983, CTR 0.000983\n"
     ]
    }
   ],
   "source": [
    "#print( 'Результаты первой кампании: показов {}, кликов {}, CTR {}' )\n",
    "#В фигурных скобках будут стоять значения переменных a и b, которые мы передадим с помощью метода format:\n",
    "\n",
    "print( 'Результаты первой кампании: показов {}, кликов {}, CTR {}'.format( banner1_shows, banner1_clicks, ctr ) )"
   ]
  },
  {
   "cell_type": "code",
   "execution_count": 57,
   "metadata": {},
   "outputs": [
    {
     "name": "stdout",
     "output_type": "stream",
     "text": [
      "Результаты первой кампании: показов 1000000, кликов 983.0, CTR 0.098%\n"
     ]
    }
   ],
   "source": [
    "#Давайте теперь зададим нашему выводу более читаемый формат. Для чисел количество цифр после запятой задается следующим образом:\n",
    "#в фигурных скобках пишем :.2f, где 2 - необходимо число знаков после запятой, f - указание на тип float\n",
    "#для указания процентного формата вместо f ставим %\n",
    "print( 'Результаты первой кампании: показов {}, кликов {:.1f}, CTR {:.3%}'.format( banner1_shows, banner1_clicks, ctr ) )"
   ]
  },
  {
   "cell_type": "code",
   "execution_count": 58,
   "metadata": {},
   "outputs": [
    {
     "name": "stdout",
     "output_type": "stream",
     "text": [
      "['смотреть сериалы онлайн', 'новости спорта', 'смотреть новости', 'чемпионат мира по футболу']\n"
     ]
    }
   ],
   "source": [
    "#Список поисковых запросов\n",
    "queriesList=['смотреть сериалы онлайн','новости спорта','смотреть новости','чемпионат мира по футболу']\n",
    "print(queriesList)"
   ]
  },
  {
   "cell_type": "code",
   "execution_count": 64,
   "metadata": {},
   "outputs": [
    {
     "name": "stdout",
     "output_type": "stream",
     "text": [
      "[2, 1, 5, 4, 3, 55]\n"
     ]
    }
   ],
   "source": [
    "justNumbers = [  2,1, 5, 4, 3 ]\n",
    "\n",
    "#Количество элементов в листе\n",
    "len( justNumbers )\n",
    "\n",
    "#Сумма элементов листа\n",
    "sum( justNumbers )\n",
    "\n",
    "#Cортировка элементов листа по возрастанию\n",
    "sorted( justNumbers )\n",
    "\n",
    "#Если элементы листа представляют собой слова, то сортировка будет происходить по алфавиту \n",
    "#Для сортировки по убыванию добавим параметр reverse = True\n",
    "sorted( justNumbers, reverse = True )\n",
    "\n",
    "#добавим элемент к листу.\n",
    "justNumbers = [2, 1, 5, 4, 3]\n",
    "justNumbers.append( 55 )\n",
    "print( justNumbers )\n",
    "\n"
   ]
  },
  {
   "cell_type": "code",
   "execution_count": 65,
   "metadata": {},
   "outputs": [
    {
     "data": {
      "text/plain": [
       "['два', 'один', 'три']"
      ]
     },
     "execution_count": 65,
     "metadata": {},
     "output_type": "execute_result"
    }
   ],
   "source": [
    "#сортировка по алфавиту\n",
    "slova=['один', 'два', 'три']\n",
    "sorted( slova )\n"
   ]
  },
  {
   "cell_type": "code",
   "execution_count": 66,
   "metadata": {},
   "outputs": [
    {
     "name": "stdout",
     "output_type": "stream",
     "text": [
      "['смотреть сериалы онлайн', 'новости спорта', 'афиша кино', 'курс доллара', 'сериалы этим летом', 'курс по питону', 'сериалы про спорт']\n"
     ]
    }
   ],
   "source": [
    "#split-перевода строки в лист\n",
    "queries_string = \"смотреть сериалы онлайн,новости спорта,афиша кино,курс доллара,сериалы этим летом,курс по питону,сериалы про спорт\"\n",
    "print( queries_string.split(',') )"
   ]
  },
  {
   "cell_type": "code",
   "execution_count": 67,
   "metadata": {},
   "outputs": [
    {
     "name": "stdout",
     "output_type": "stream",
     "text": [
      "['003_logs_2017-11-03', '001_logs_2017-11-01', '005_logs_2017-11-05', '002_logs_2017-11-02', '004_logs_2017-11-04']\n"
     ]
    }
   ],
   "source": [
    "file_string=\"003_logs_2017-11-03;001_logs_2017-11-01;005_logs_2017-11-05;002_logs_2017-11-02;004_logs_2017-11-04\"\n",
    "print( file_string.split(';') )"
   ]
  },
  {
   "cell_type": "code",
   "execution_count": 70,
   "metadata": {},
   "outputs": [
    {
     "name": "stdout",
     "output_type": "stream",
     "text": [
      "смотреть сериалы онлайн,новости спорта,афиша кино,курс доллара,сериалы этим летом,курс по питону,сериалы про спорт\n",
      "смотреть сериалы онлайн\tновости спорта\tафиша кино\tкурс доллара\tсериалы этим летом\tкурс по питону\tсериалы про спорт\n",
      "001_logs_2017-11-01//002_logs_2017-11-02//003_logs_2017-11-03//004_logs_2017-11-04//005_logs_2017-11-05//006_logs_2017-11-06\n"
     ]
    }
   ],
   "source": [
    "#Для перевода листа в строку используется функция join.\n",
    "queriesList = ['смотреть сериалы онлайн', 'новости спорта', 'афиша кино', 'курс доллара', 'сериалы этим летом', 'курс по питону', 'сериалы про спорт']\n",
    "print( ','.join( queriesList ) )  #если разделитель запятая\n",
    "print( '\\t'.join( queriesList ) ) #если разделитель знак табуляции\n",
    "\n",
    "results = ['001_logs_2017-11-01', '002_logs_2017-11-02', '003_logs_2017-11-03', '004_logs_2017-11-04', '005_logs_2017-11-05', '006_logs_2017-11-06']\n",
    "print( '//'.join( results ) ) #если разделитель//"
   ]
  },
  {
   "cell_type": "code",
   "execution_count": 74,
   "metadata": {},
   "outputs": [
    {
     "name": "stdout",
     "output_type": "stream",
     "text": [
      "Yandex Direct\n"
     ]
    },
    {
     "data": {
      "text/plain": [
       "[2, 4, 6, 8, 10]"
      ]
     },
     "execution_count": 74,
     "metadata": {},
     "output_type": "execute_result"
    }
   ],
   "source": [
    "#ВЫБОР ЭЛЕМЕНТОВ ЛИСТОВ\n",
    "\n",
    "sequence = [ 'Google Adwords', 'Yandex Direct', 'Facebook', 'VK', 'Partner' ]\n",
    "print(sequence[1])\n",
    "\n",
    "#Если мы хотим получить элементы с первого по третий, то пишем так:\n",
    "sequence[0:3]\n",
    "\n",
    "#Выведем все элементы от третьего по счету до последнего в листе\n",
    "sequence = [ 'Google Adwords', 'Yandex Direct', 'Facebook', 'VK', 'Partner' ]\n",
    "sequence[2:]\n",
    "\n",
    "# для получения только четных чисел из последовательности от 1 до 10 используйте следующий синтаксис:\n",
    "justNumbers = [ 1, 2, 3, 4, 5, 6, 7, 8, 9, 10 ]\n",
    "justNumbers[ 1::2 ]"
   ]
  },
  {
   "cell_type": "code",
   "execution_count": 75,
   "metadata": {},
   "outputs": [
    {
     "name": "stdout",
     "output_type": "stream",
     "text": [
      "0\n",
      "1\n",
      "2\n",
      "3\n",
      "4\n",
      "5\n",
      "6\n",
      "7\n",
      "8\n",
      "9\n"
     ]
    }
   ],
   "source": [
    "for i in range(10):\n",
    "    print( i )"
   ]
  },
  {
   "cell_type": "code",
   "execution_count": 76,
   "metadata": {},
   "outputs": [
    {
     "name": "stdout",
     "output_type": "stream",
     "text": [
      "0\n",
      "1\n",
      "4\n",
      "9\n",
      "16\n",
      "25\n",
      "36\n",
      "49\n",
      "64\n",
      "81\n"
     ]
    }
   ],
   "source": [
    "#вывести квадраты этих значений:\n",
    "\n",
    "for i in range(10):\n",
    "    print( i**2 )"
   ]
  },
  {
   "cell_type": "code",
   "execution_count": 80,
   "metadata": {},
   "outputs": [
    {
     "name": "stdout",
     "output_type": "stream",
     "text": [
      "Сегодня понедельник\n",
      "Сегодня вторник\n",
      "Сегодня среда\n",
      "Сегодня четверг\n",
      "Сегодня пятница\n",
      "Сегодня суббота\n",
      "Сегодня воскресенье\n"
     ]
    }
   ],
   "source": [
    "weekdays = ['понедельник', 'вторник', 'среда', 'четверг', 'пятница', 'суббота', 'воскресенье']\n",
    "for day in weekdays:\n",
    "    print('Сегодня {}'.format (day))"
   ]
  },
  {
   "cell_type": "code",
   "execution_count": 118,
   "metadata": {},
   "outputs": [
    {
     "name": "stdout",
     "output_type": "stream",
     "text": [
      "2.0\n",
      "2.449489742783178\n",
      "2.8284271247461903\n",
      "3.1622776601683795\n",
      "3.4641016151377544\n",
      "3.7416573867739413\n",
      "4.0\n",
      "4.242640687119285\n"
     ]
    }
   ],
   "source": [
    "#создания листов с помощью range:\n",
    "#- с двумя значениями:range(100, 200) - лист значений от 100 до 199\n",
    "#- с тремя значениями:range(100, 200, 2) - лист от 100 до 199 с шагом 2\n",
    "\n",
    "minValue =4\n",
    "maxValue =18\n",
    "my_list = range(minValue,maxValue+1)\n",
    "for i in my_list[0::2]:\n",
    "    print( i**0.5)\n",
    "\n",
    "    \n"
   ]
  },
  {
   "cell_type": "code",
   "execution_count": null,
   "metadata": {},
   "outputs": [],
   "source": []
  },
  {
   "cell_type": "code",
   "execution_count": null,
   "metadata": {},
   "outputs": [],
   "source": []
  }
 ],
 "metadata": {
  "kernelspec": {
   "display_name": "Python 3",
   "language": "python",
   "name": "python3"
  },
  "language_info": {
   "codemirror_mode": {
    "name": "ipython",
    "version": 3
   },
   "file_extension": ".py",
   "mimetype": "text/x-python",
   "name": "python",
   "nbconvert_exporter": "python",
   "pygments_lexer": "ipython3",
   "version": "3.6.5"
  }
 },
 "nbformat": 4,
 "nbformat_minor": 2
}
